{
 "cells": [
  {
   "cell_type": "markdown",
   "metadata": {},
   "source": [
    "# YouTube API Lab - Part 1: Channel Specific Data Collection\n",
    "## Introduction\n",
    "\n",
    "In this lab, we will familiarize ourselves with the YouTube API. By completing this lab, you should be able to:\n",
    "* Collect summary information for one or more YouTube channels\n",
    "* Gather data on the channel's uploaded videos\n",
    "* Gather samples of comments from each video\n",
    "* Navigate and use code documentation\n",
    "\n",
    "Some code/Python skills used in this lab include: dictionaries, JSON, while loops, try/except, and pandas Dataframes\n",
    "\n",
    "**NOTE:** This lab is _HEAVILY_ based on [this video](https://www.youtube.com/watch?v=D56_Cx36oGY). A lot of the code comes directly from it, but it works perfectly well for our purposes. Feel free to watch it yourself for a more guided walkthrough of the process (especially setting up your API key).\n",
    "\n",
    "### Pre-requisites\n",
    "- Install the `google-api-python-client` package with the code below or directly in your terminal"
   ]
  },
  {
   "cell_type": "code",
   "execution_count": 56,
   "metadata": {},
   "outputs": [],
   "source": [
    "#%pip install --upgrade google-api-python-client "
   ]
  },
  {
   "cell_type": "code",
   "execution_count": 57,
   "metadata": {},
   "outputs": [],
   "source": [
    "from googleapiclient.discovery import build\n",
    "import pandas as pd"
   ]
  },
  {
   "cell_type": "markdown",
   "metadata": {},
   "source": [
    "To simulate a project, we'll be focusing on analyzing a case study of controversy as it affects one YouTuber. More context will be provided in the next part, but for now, the channel is that of [Gus Johnson](https://www.youtube.com/@gustoonz) and our main question is: **How has controversy affected the metric performance of Gus Johnson's YouTube Channel?**\n",
    "## Gus Johnson - Youtuber Analytic Performance In the Face of Controversy"
   ]
  },
  {
   "cell_type": "markdown",
   "metadata": {},
   "source": [
    "### Connecting to the API\n",
    "Your first goal in most API accesses is to get an API key - an access code that allows you to send requests to and from the platform. To get that API key, you'll need to:\n",
    "* Log into Google API Console\n",
    "* Create and set up a new project\n",
    "* Get credentials \n",
    "* Create a new key\n",
    "\n",
    "There are many guides to walk you through this process including \n",
    "* A document uploaded for you in Canvas <- I would start with this one\n",
    "* the [official quickstart guide](https://developers.google.com/youtube/v3/quickstart/python) \n",
    "* or the previously mentioned [YouTube video](https://www.youtube.com/watch?v=D56_Cx36oGY)"
   ]
  },
  {
   "cell_type": "code",
   "execution_count": 58,
   "metadata": {},
   "outputs": [],
   "source": [
    "api_key = \"<YOUR API KEY>\" #REMEMBER TO REMOVE BEFORE UPLOADING\n",
    "api_service_name = \"youtube\"\n",
    "api_version = \"v3\""
   ]
  },
  {
   "cell_type": "code",
   "execution_count": 59,
   "metadata": {},
   "outputs": [],
   "source": [
    "#Get credentials and create an API client\n",
    "youtube = build(\n",
    "    api_service_name, api_version, developerKey=api_key\n",
    ")"
   ]
  },
  {
   "attachments": {
    "image.png": {
     "image/png": "[encoded data removed]"
    }
   },
   "cell_type": "markdown",
   "metadata": {},
   "source": [
    "## Collecting Channel Info\n",
    "\n",
    "The first step is to extract our channel of interest. \n",
    "<br><br>\n",
    "We can start with finding the channel username in the URL of the channel page. We want what comes after the '@' <br>\n",
    "![image.png](attachment:image.png)\n"
   ]
  },
  {
   "cell_type": "code",
   "execution_count": 60,
   "metadata": {},
   "outputs": [],
   "source": [
    "channel_user = \"gustoonz\" # <- Save the ID to a variable"
   ]
  },
  {
   "cell_type": "markdown",
   "metadata": {},
   "source": [
    "Using the channel ID, we can make a request to the API in this format: (Note the structure of the request - this pattern repeats for almost every request we're going to make to this API)"
   ]
  },
  {
   "cell_type": "code",
   "execution_count": null,
   "metadata": {},
   "outputs": [],
   "source": [
    "request = youtube.channels().list(\n",
    "    part=\"snippet,contentDetails,statistics\",\n",
    "    forUsername=channel_user\n",
    ")\n",
    "\n",
    "response = request.execute()\n",
    "\n",
    "response"
   ]
  },
  {
   "cell_type": "markdown",
   "metadata": {},
   "source": [
    "As you can see, the response is a JSON of channel attributes. We don't necessesarily want all of this, so let's simplify it out. "
   ]
  },
  {
   "cell_type": "markdown",
   "metadata": {},
   "source": [
    "#### Try it yourself\n",
    "\n",
    "Create a function that extracts the following information from an inputted channel username (I recommend making a [dictionary](https://docs.python.org/3/tutorial/datastructures.html#dictionaries)):\n",
    "* Name\n",
    "* Channel Creation Date\n",
    "* Subscriber Count\n",
    "* View Count\n",
    "* Upload Count\n",
    "* ID of their uploads playlist <- This will allow us to look at their uploads later\n",
    "\n",
    "**HINT**: Look closely at the structure of the JSON object. Track what attributes are nested under other categories."
   ]
  },
  {
   "cell_type": "code",
   "execution_count": 84,
   "metadata": {},
   "outputs": [],
   "source": [
    "def get_channel_info(username):\n",
    "    request = youtube.channels().list(\n",
    "        part=\"snippet,contentDetails,statistics\",\n",
    "        forUsername=username\n",
    "    )\n",
    "\n",
    "    response = request.execute()\n",
    "\n",
    "    # Your solution"
   ]
  },
  {
   "cell_type": "code",
   "execution_count": 85,
   "metadata": {},
   "outputs": [
    {
     "data": {
      "text/plain": [
       "{'channelName': 'Gus Johnson',\n",
       " 'channelStartDate': '2010-09-11T20:11:40Z',\n",
       " 'subscribers': '3030000',\n",
       " 'viewCount': '986414437',\n",
       " 'videoCount': '749',\n",
       " 'uploadsPlaylist': 'UUpIafFPGutTAKOBHMtGen7g'}"
      ]
     },
     "execution_count": 85,
     "metadata": {},
     "output_type": "execute_result"
    }
   ],
   "source": [
    "# Test your code:\n",
    "\n",
    "channel_info = get_channel_info(channel_user)\n",
    "channel_info"
   ]
  },
  {
   "cell_type": "markdown",
   "metadata": {},
   "source": [
    "## Get All Uploads\n",
    "\n",
    "Now that we've gotten our basic channel info, we can start to collect data on what they're uploading. This is where we use that playlist ID we collected to get the IDs of every video this channel has published."
   ]
  },
  {
   "cell_type": "markdown",
   "metadata": {},
   "source": [
    "To get practice using [documentation](https://developers.google.com/youtube/v3/docs), see if you can find the code to get information on items in a playlist. "
   ]
  },
  {
   "cell_type": "code",
   "execution_count": 64,
   "metadata": {},
   "outputs": [],
   "source": [
    "# Your Solution"
   ]
  },
  {
   "cell_type": "markdown",
   "metadata": {},
   "source": [
    "You might notice that the maximum number of videos you can get from the playlist is 50. Gus Johnson and most other large YouTubers have uploaded more than that. This is where we use the \"next page token\". <br>\n",
    "Here we can see a while loop that collects the \"address\" of the next page of data for as long as there is a page to go to. "
   ]
  },
  {
   "cell_type": "code",
   "execution_count": 65,
   "metadata": {},
   "outputs": [
    {
     "data": {
      "text/plain": [
       "750"
      ]
     },
     "execution_count": 65,
     "metadata": {},
     "output_type": "execute_result"
    }
   ],
   "source": [
    "# Create a list to store video IDs in\n",
    "video_ids = []\n",
    "# Add our first page to the list\n",
    "video_ids.extend([item['contentDetails']['videoId'] for item in response['items']])\n",
    "\n",
    "next_page = response.get('nextPageToken')\n",
    "\n",
    "\n",
    "while next_page is not None: \n",
    "    request = youtube.playlistItems().list(\n",
    "        part='snippet,contentDetails',\n",
    "        playlistId = channel_info['uploadsPlaylist'],\n",
    "        maxResults = 50,\n",
    "        pageToken = next_page # The page token goes here\n",
    "    )\n",
    "    response = request.execute()\n",
    "\n",
    "    video_ids.extend([item['contentDetails']['videoId'] for item in response['items']])\n",
    "    next_page = response.get('nextPageToken')\n",
    "\n",
    "len(video_ids) # Check to see if this length matches the upload count collected above"
   ]
  },
  {
   "cell_type": "markdown",
   "metadata": {},
   "source": [
    "### Video Information Queries\n",
    "Now that we've collected the video IDs, we can query each one for its own information. "
   ]
  },
  {
   "cell_type": "markdown",
   "metadata": {},
   "source": [
    "The below code uses a for loop to request information in batches. This practice is commonly used to avoid limits on how many requests one user can make at once to an API (aka a **limit** on the **rate** at which you can make requests)"
   ]
  },
  {
   "cell_type": "code",
   "execution_count": 66,
   "metadata": {},
   "outputs": [],
   "source": [
    "def get_video_data(video_ids):\n",
    "    video_data = []\n",
    "    for i in range (0, len(video_ids), 50): # performs requests in batches to avoid rate-limiting\n",
    "        request = youtube.videos().list(\n",
    "            part='snippet,contentDetails,statistics',\n",
    "            id=','.join(video_ids[i:i+50])\n",
    "        )\n",
    "        response = request.execute()\n",
    "\n",
    "        for item in response['items']:\n",
    "            relevant_stats = {\n",
    "                'snippet': ['title', 'description', 'tags', 'publishedAt'], \n",
    "                'statistics': ['viewCount', 'likeCount', 'commentCount'], \n",
    "                'contentDetails': ['duration', 'definition', 'caption']\n",
    "            }\n",
    "\n",
    "            video_info = {}\n",
    "            video_info['video_id'] = item['id']\n",
    "\n",
    "            for cat in relevant_stats.keys():\n",
    "                for stat in relevant_stats[cat]:\n",
    "                    try:\n",
    "                        video_info[stat] = item[cat][stat]\n",
    "                    except:\n",
    "                        video_info[stat] = None\n",
    "\n",
    "            video_data.append(video_info)\n",
    "    video_data\n",
    "    return pd.DataFrame(video_data)"
   ]
  },
  {
   "cell_type": "code",
   "execution_count": 67,
   "metadata": {},
   "outputs": [],
   "source": [
    "videos_df = get_video_data(video_ids)"
   ]
  },
  {
   "cell_type": "code",
   "execution_count": 68,
   "metadata": {},
   "outputs": [
    {
     "data": {
      "text/html": [
       "<div>\n",
       "<style scoped>\n",
       "    .dataframe tbody tr th:only-of-type {\n",
       "        vertical-align: middle;\n",
       "    }\n",
       "\n",
       "    .dataframe tbody tr th {\n",
       "        vertical-align: top;\n",
       "    }\n",
       "\n",
       "    .dataframe thead th {\n",
       "        text-align: right;\n",
       "    }\n",
       "</style>\n",
       "<table border=\"1\" class=\"dataframe\">\n",
       "  <thead>\n",
       "    <tr style=\"text-align: right;\">\n",
       "      <th></th>\n",
       "      <th>video_id</th>\n",
       "      <th>title</th>\n",
       "      <th>description</th>\n",
       "      <th>tags</th>\n",
       "      <th>publishedAt</th>\n",
       "      <th>viewCount</th>\n",
       "      <th>likeCount</th>\n",
       "      <th>commentCount</th>\n",
       "      <th>duration</th>\n",
       "      <th>definition</th>\n",
       "      <th>caption</th>\n",
       "    </tr>\n",
       "  </thead>\n",
       "  <tbody>\n",
       "    <tr>\n",
       "      <th>0</th>\n",
       "      <td>mARBxshkQ3Q</td>\n",
       "      <td>your friend who got scammed</td>\n",
       "      <td>↓CHECK THIS OUT↓\\n- Instagram: https://www.ins...</td>\n",
       "      <td>[gus, gus johnson, gus johnson update, gus joh...</td>\n",
       "      <td>2024-03-13T20:32:21Z</td>\n",
       "      <td>204402</td>\n",
       "      <td>15652</td>\n",
       "      <td>363</td>\n",
       "      <td>PT4M49S</td>\n",
       "      <td>hd</td>\n",
       "      <td>false</td>\n",
       "    </tr>\n",
       "    <tr>\n",
       "      <th>1</th>\n",
       "      <td>eckwAcmtfx8</td>\n",
       "      <td>Didn't think I'd have to have this talk...</td>\n",
       "      <td>↓CHECK THIS OUT↓\\n- Instagram: https://www.ins...</td>\n",
       "      <td>[i didnt want to have this talk, gus johnson, ...</td>\n",
       "      <td>2024-02-19T22:52:36Z</td>\n",
       "      <td>163779</td>\n",
       "      <td>10219</td>\n",
       "      <td>288</td>\n",
       "      <td>PT3M33S</td>\n",
       "      <td>hd</td>\n",
       "      <td>false</td>\n",
       "    </tr>\n",
       "    <tr>\n",
       "      <th>2</th>\n",
       "      <td>5zHh6Ax8vBs</td>\n",
       "      <td>I wrote the Josh Wine national anthem</td>\n",
       "      <td>SONG ABOUT JOSH WINE\\n↓CHECK THIS OUT↓\\n- Inst...</td>\n",
       "      <td>[last night we let the josh talk, josh talk, j...</td>\n",
       "      <td>2024-01-22T22:53:16Z</td>\n",
       "      <td>165196</td>\n",
       "      <td>9381</td>\n",
       "      <td>544</td>\n",
       "      <td>PT1M28S</td>\n",
       "      <td>hd</td>\n",
       "      <td>false</td>\n",
       "    </tr>\n",
       "    <tr>\n",
       "      <th>3</th>\n",
       "      <td>PEFgnSp9z0A</td>\n",
       "      <td>somebody stop him</td>\n",
       "      <td>↓CHECK THIS OUT↓\\n- Instagram: https://www.ins...</td>\n",
       "      <td>[gus, gus johnson, gus johnson 2024, gus johns...</td>\n",
       "      <td>2024-01-09T22:30:21Z</td>\n",
       "      <td>184879</td>\n",
       "      <td>15521</td>\n",
       "      <td>528</td>\n",
       "      <td>PT1M56S</td>\n",
       "      <td>hd</td>\n",
       "      <td>false</td>\n",
       "    </tr>\n",
       "    <tr>\n",
       "      <th>4</th>\n",
       "      <td>fO66jBPnd-s</td>\n",
       "      <td>my neighbor is ruining my life</td>\n",
       "      <td>↓CHECK THIS OUT↓\\n- Instagram: https://www.ins...</td>\n",
       "      <td>[gus, gus johnson, gus johnson update, gus joh...</td>\n",
       "      <td>2023-12-08T19:38:57Z</td>\n",
       "      <td>245948</td>\n",
       "      <td>22666</td>\n",
       "      <td>472</td>\n",
       "      <td>PT1M34S</td>\n",
       "      <td>hd</td>\n",
       "      <td>false</td>\n",
       "    </tr>\n",
       "    <tr>\n",
       "      <th>...</th>\n",
       "      <td>...</td>\n",
       "      <td>...</td>\n",
       "      <td>...</td>\n",
       "      <td>...</td>\n",
       "      <td>...</td>\n",
       "      <td>...</td>\n",
       "      <td>...</td>\n",
       "      <td>...</td>\n",
       "      <td>...</td>\n",
       "      <td>...</td>\n",
       "      <td>...</td>\n",
       "    </tr>\n",
       "    <tr>\n",
       "      <th>745</th>\n",
       "      <td>iczMOqlQmn8</td>\n",
       "      <td>Exaggerated Weather Reporting</td>\n",
       "      <td>\"I Spy News\" goes live on the scene to over-th...</td>\n",
       "      <td>[exaggerated, weather, reporting, exaggerate, ...</td>\n",
       "      <td>2010-12-23T22:20:58Z</td>\n",
       "      <td>51585</td>\n",
       "      <td>2186</td>\n",
       "      <td>194</td>\n",
       "      <td>PT3M43S</td>\n",
       "      <td>hd</td>\n",
       "      <td>false</td>\n",
       "    </tr>\n",
       "    <tr>\n",
       "      <th>746</th>\n",
       "      <td>rFKq49tOMyQ</td>\n",
       "      <td>Fanfight</td>\n",
       "      <td>Dispute over a fan.</td>\n",
       "      <td>[fanfight, fan, fight, outside, ouch, flour]</td>\n",
       "      <td>2010-11-11T02:28:13Z</td>\n",
       "      <td>32356</td>\n",
       "      <td>1204</td>\n",
       "      <td>98</td>\n",
       "      <td>PT1M50S</td>\n",
       "      <td>hd</td>\n",
       "      <td>false</td>\n",
       "    </tr>\n",
       "    <tr>\n",
       "      <th>747</th>\n",
       "      <td>QV_EKHmGlfM</td>\n",
       "      <td>How To Kill a Mockingbird</td>\n",
       "      <td>A lazy Sunday afternoon of building card house...</td>\n",
       "      <td>[how to kill a mockingbird, gustoonz, gus, too...</td>\n",
       "      <td>2010-11-11T02:17:43Z</td>\n",
       "      <td>123633</td>\n",
       "      <td>4074</td>\n",
       "      <td>295</td>\n",
       "      <td>PT3M4S</td>\n",
       "      <td>hd</td>\n",
       "      <td>false</td>\n",
       "    </tr>\n",
       "    <tr>\n",
       "      <th>748</th>\n",
       "      <td>3DVNS_skRLo</td>\n",
       "      <td>Light Your World</td>\n",
       "      <td>A peaceful meditation process encounters some ...</td>\n",
       "      <td>[carry your candle, candle, carry, your, hot, ...</td>\n",
       "      <td>2010-10-28T00:33:42Z</td>\n",
       "      <td>80667</td>\n",
       "      <td>2566</td>\n",
       "      <td>224</td>\n",
       "      <td>PT2M26S</td>\n",
       "      <td>hd</td>\n",
       "      <td>false</td>\n",
       "    </tr>\n",
       "    <tr>\n",
       "      <th>749</th>\n",
       "      <td>OEeRY510Yq4</td>\n",
       "      <td>Ian's Song (original - by Gus)</td>\n",
       "      <td>I wrote this song for my classmate, teammate, ...</td>\n",
       "      <td>[ian]</td>\n",
       "      <td>2010-09-11T21:37:15Z</td>\n",
       "      <td>177314</td>\n",
       "      <td>None</td>\n",
       "      <td>48</td>\n",
       "      <td>PT3M55S</td>\n",
       "      <td>sd</td>\n",
       "      <td>false</td>\n",
       "    </tr>\n",
       "  </tbody>\n",
       "</table>\n",
       "<p>750 rows × 11 columns</p>\n",
       "</div>"
      ],
      "text/plain": [
       "        video_id                                       title  \\\n",
       "0    mARBxshkQ3Q                 your friend who got scammed   \n",
       "1    eckwAcmtfx8  Didn't think I'd have to have this talk...   \n",
       "2    5zHh6Ax8vBs       I wrote the Josh Wine national anthem   \n",
       "3    PEFgnSp9z0A                           somebody stop him   \n",
       "4    fO66jBPnd-s              my neighbor is ruining my life   \n",
       "..           ...                                         ...   \n",
       "745  iczMOqlQmn8               Exaggerated Weather Reporting   \n",
       "746  rFKq49tOMyQ                                    Fanfight   \n",
       "747  QV_EKHmGlfM                   How To Kill a Mockingbird   \n",
       "748  3DVNS_skRLo                            Light Your World   \n",
       "749  OEeRY510Yq4              Ian's Song (original - by Gus)   \n",
       "\n",
       "                                           description  \\\n",
       "0    ↓CHECK THIS OUT↓\\n- Instagram: https://www.ins...   \n",
       "1    ↓CHECK THIS OUT↓\\n- Instagram: https://www.ins...   \n",
       "2    SONG ABOUT JOSH WINE\\n↓CHECK THIS OUT↓\\n- Inst...   \n",
       "3    ↓CHECK THIS OUT↓\\n- Instagram: https://www.ins...   \n",
       "4    ↓CHECK THIS OUT↓\\n- Instagram: https://www.ins...   \n",
       "..                                                 ...   \n",
       "745  \"I Spy News\" goes live on the scene to over-th...   \n",
       "746                                Dispute over a fan.   \n",
       "747  A lazy Sunday afternoon of building card house...   \n",
       "748  A peaceful meditation process encounters some ...   \n",
       "749  I wrote this song for my classmate, teammate, ...   \n",
       "\n",
       "                                                  tags           publishedAt  \\\n",
       "0    [gus, gus johnson, gus johnson update, gus joh...  2024-03-13T20:32:21Z   \n",
       "1    [i didnt want to have this talk, gus johnson, ...  2024-02-19T22:52:36Z   \n",
       "2    [last night we let the josh talk, josh talk, j...  2024-01-22T22:53:16Z   \n",
       "3    [gus, gus johnson, gus johnson 2024, gus johns...  2024-01-09T22:30:21Z   \n",
       "4    [gus, gus johnson, gus johnson update, gus joh...  2023-12-08T19:38:57Z   \n",
       "..                                                 ...                   ...   \n",
       "745  [exaggerated, weather, reporting, exaggerate, ...  2010-12-23T22:20:58Z   \n",
       "746       [fanfight, fan, fight, outside, ouch, flour]  2010-11-11T02:28:13Z   \n",
       "747  [how to kill a mockingbird, gustoonz, gus, too...  2010-11-11T02:17:43Z   \n",
       "748  [carry your candle, candle, carry, your, hot, ...  2010-10-28T00:33:42Z   \n",
       "749                                              [ian]  2010-09-11T21:37:15Z   \n",
       "\n",
       "    viewCount likeCount commentCount duration definition caption  \n",
       "0      204402     15652          363  PT4M49S         hd   false  \n",
       "1      163779     10219          288  PT3M33S         hd   false  \n",
       "2      165196      9381          544  PT1M28S         hd   false  \n",
       "3      184879     15521          528  PT1M56S         hd   false  \n",
       "4      245948     22666          472  PT1M34S         hd   false  \n",
       "..        ...       ...          ...      ...        ...     ...  \n",
       "745     51585      2186          194  PT3M43S         hd   false  \n",
       "746     32356      1204           98  PT1M50S         hd   false  \n",
       "747    123633      4074          295   PT3M4S         hd   false  \n",
       "748     80667      2566          224  PT2M26S         hd   false  \n",
       "749    177314      None           48  PT3M55S         sd   false  \n",
       "\n",
       "[750 rows x 11 columns]"
      ]
     },
     "execution_count": 68,
     "metadata": {},
     "output_type": "execute_result"
    }
   ],
   "source": [
    "videos_df"
   ]
  },
  {
   "cell_type": "markdown",
   "metadata": {},
   "source": [
    "## Your Final Task for Part 1 - Make this Reusable\n",
    "\n",
    "You might need to get this info for multiple channels, and manually running all of this code would be inefficient. Let's take all of the above work we've done and turn it into one function call that:\n",
    "- Accepts a channel username\n",
    "- Returns a dict with channel info and a dataframe with upload data\n",
    "\n",
    "**HINT**: Don't try to make one really long function. Since a lot of our code is already structured in functions, call them as helper functions in this new one (see example). You'll need to make one `get_video_ids` function on your own based on the above code\n",
    "\n",
    "For Example:\n",
    "```python\n",
    "def largeTask(x):\n",
    "    a = stepOne(x)\n",
    "\n",
    "    b = stepTwo(a)\n",
    "\n",
    "    return b\n",
    "```"
   ]
  },
  {
   "cell_type": "code",
   "execution_count": 86,
   "metadata": {},
   "outputs": [],
   "source": [
    "# Define any helper functions here"
   ]
  },
  {
   "cell_type": "code",
   "execution_count": 87,
   "metadata": {},
   "outputs": [],
   "source": [
    "def get_channel_data(username):\n",
    "    # Your Solution"
   ]
  },
  {
   "cell_type": "code",
   "execution_count": 88,
   "metadata": {},
   "outputs": [],
   "source": [
    "# Test your code (Try out a few of your favorite channels!)\n",
    "info, uploads = get_channel_data('gustoonz')\n",
    "\n",
    "print(info)\n",
    "uploads"
   ]
  },
  {
   "cell_type": "markdown",
   "metadata": {},
   "source": [
    "## BONUS - Getting Comments\n",
    "\n",
    "Another way to measure reception of a video beyond the likes and views is the comments the audience leaves. We can do all kinds of text analysis with this data later on.\n",
    "\n",
    "This method uses something called a [try/except](https://docs.python.org/3/tutorial/errors.html#handling-exceptions) which basically runs the code in the try section, but if any errors occur it switches to the except section. Here, the function attempts to collect comment data on an inputted list of videos, but if one or more videos have comments disabled the code prints out 'Could not get comments for video {video_id}' instead of stopping the program."
   ]
  },
  {
   "cell_type": "code",
   "execution_count": 79,
   "metadata": {},
   "outputs": [],
   "source": [
    "def get_comments_in_videos(video_ids, maxLimit=15):\n",
    "    all_comments = []\n",
    "    \n",
    "    for video_id in video_ids[:maxLimit]:\n",
    "        try:   \n",
    "            request = youtube.commentThreads().list(\n",
    "                part=\"snippet,replies\",\n",
    "                videoId=video_id\n",
    "            )\n",
    "            response = request.execute()\n",
    "        \n",
    "            comments_in_video = [comment['snippet']['topLevelComment']['snippet']['textOriginal'] for comment in response['items'][0:10]]\n",
    "            comments_in_video_info = {'video_id': video_id, 'comments': comments_in_video}\n",
    "\n",
    "            all_comments.append(comments_in_video_info)\n",
    "            \n",
    "        except: \n",
    "            print('Could not get comments for video ' + video_id)\n",
    "\n",
    "    return pd.DataFrame(all_comments)"
   ]
  },
  {
   "cell_type": "code",
   "execution_count": 80,
   "metadata": {},
   "outputs": [
    {
     "data": {
      "text/html": [
       "<div>\n",
       "<style scoped>\n",
       "    .dataframe tbody tr th:only-of-type {\n",
       "        vertical-align: middle;\n",
       "    }\n",
       "\n",
       "    .dataframe tbody tr th {\n",
       "        vertical-align: top;\n",
       "    }\n",
       "\n",
       "    .dataframe thead th {\n",
       "        text-align: right;\n",
       "    }\n",
       "</style>\n",
       "<table border=\"1\" class=\"dataframe\">\n",
       "  <thead>\n",
       "    <tr style=\"text-align: right;\">\n",
       "      <th></th>\n",
       "      <th>video_id</th>\n",
       "      <th>comments</th>\n",
       "    </tr>\n",
       "  </thead>\n",
       "  <tbody>\n",
       "    <tr>\n",
       "      <th>0</th>\n",
       "      <td>mARBxshkQ3Q</td>\n",
       "      <td>[The song at the end of every video sped up 2x...</td>\n",
       "    </tr>\n",
       "    <tr>\n",
       "      <th>1</th>\n",
       "      <td>eckwAcmtfx8</td>\n",
       "      <td>[Hands the kids glass 😂😂😂, Believe it or not, ...</td>\n",
       "    </tr>\n",
       "    <tr>\n",
       "      <th>2</th>\n",
       "      <td>5zHh6Ax8vBs</td>\n",
       "      <td>[Now do when the egg roll is called up yonder,...</td>\n",
       "    </tr>\n",
       "    <tr>\n",
       "      <th>3</th>\n",
       "      <td>PEFgnSp9z0A</td>\n",
       "      <td>[I've never googled potato salad before. $18 f...</td>\n",
       "    </tr>\n",
       "    <tr>\n",
       "      <th>4</th>\n",
       "      <td>fO66jBPnd-s</td>\n",
       "      <td>[I like how at the end he walks directly into ...</td>\n",
       "    </tr>\n",
       "    <tr>\n",
       "      <th>5</th>\n",
       "      <td>FhqG0X1rBuw</td>\n",
       "      <td>[This is the best., The way he’s just like a k...</td>\n",
       "    </tr>\n",
       "    <tr>\n",
       "      <th>6</th>\n",
       "      <td>YpLB1-EZM7o</td>\n",
       "      <td>[Definitely cut from the same cloth, me and Gu...</td>\n",
       "    </tr>\n",
       "    <tr>\n",
       "      <th>7</th>\n",
       "      <td>45RAMWRHsZQ</td>\n",
       "      <td>[I need money. You need employee. Let's make t...</td>\n",
       "    </tr>\n",
       "    <tr>\n",
       "      <th>8</th>\n",
       "      <td>QfyJxkjdJnw</td>\n",
       "      <td>[As a Michigander, I have done literally every...</td>\n",
       "    </tr>\n",
       "    <tr>\n",
       "      <th>9</th>\n",
       "      <td>vgMJ7Pp7fnA</td>\n",
       "      <td>[I like that sweet Red Owl merch. He musta had...</td>\n",
       "    </tr>\n",
       "    <tr>\n",
       "      <th>10</th>\n",
       "      <td>NPBG8-sNoW4</td>\n",
       "      <td>[Be safe and well out there guys!!!, Funny he ...</td>\n",
       "    </tr>\n",
       "    <tr>\n",
       "      <th>11</th>\n",
       "      <td>7GE2yoaRbDs</td>\n",
       "      <td>[And then they have the audacity to ban you to...</td>\n",
       "    </tr>\n",
       "    <tr>\n",
       "      <th>12</th>\n",
       "      <td>mnPhYQ3dMJE</td>\n",
       "      <td>[I saw that marty robins poster 👀😎, i genuinel...</td>\n",
       "    </tr>\n",
       "    <tr>\n",
       "      <th>13</th>\n",
       "      <td>uvyNF_7rUn4</td>\n",
       "      <td>[Jeepers Christ is my new term, 1 Thessalonian...</td>\n",
       "    </tr>\n",
       "    <tr>\n",
       "      <th>14</th>\n",
       "      <td>fOHvage66eM</td>\n",
       "      <td>[the Leonardo di Caprio we need, Reminds me of...</td>\n",
       "    </tr>\n",
       "  </tbody>\n",
       "</table>\n",
       "</div>"
      ],
      "text/plain": [
       "       video_id                                           comments\n",
       "0   mARBxshkQ3Q  [The song at the end of every video sped up 2x...\n",
       "1   eckwAcmtfx8  [Hands the kids glass 😂😂😂, Believe it or not, ...\n",
       "2   5zHh6Ax8vBs  [Now do when the egg roll is called up yonder,...\n",
       "3   PEFgnSp9z0A  [I've never googled potato salad before. $18 f...\n",
       "4   fO66jBPnd-s  [I like how at the end he walks directly into ...\n",
       "5   FhqG0X1rBuw  [This is the best., The way he’s just like a k...\n",
       "6   YpLB1-EZM7o  [Definitely cut from the same cloth, me and Gu...\n",
       "7   45RAMWRHsZQ  [I need money. You need employee. Let's make t...\n",
       "8   QfyJxkjdJnw  [As a Michigander, I have done literally every...\n",
       "9   vgMJ7Pp7fnA  [I like that sweet Red Owl merch. He musta had...\n",
       "10  NPBG8-sNoW4  [Be safe and well out there guys!!!, Funny he ...\n",
       "11  7GE2yoaRbDs  [And then they have the audacity to ban you to...\n",
       "12  mnPhYQ3dMJE  [I saw that marty robins poster 👀😎, i genuinel...\n",
       "13  uvyNF_7rUn4  [Jeepers Christ is my new term, 1 Thessalonian...\n",
       "14  fOHvage66eM  [the Leonardo di Caprio we need, Reminds me of..."
      ]
     },
     "execution_count": 80,
     "metadata": {},
     "output_type": "execute_result"
    }
   ],
   "source": [
    "get_comments_in_videos(videos_df['video_id'])"
   ]
  }
 ],
 "metadata": {
  "kernelspec": {
   "display_name": "Python 3",
   "language": "python",
   "name": "python3"
  },
  "language_info": {
   "codemirror_mode": {
    "name": "ipython",
    "version": 3
   },
   "file_extension": ".py",
   "mimetype": "text/x-python",
   "name": "python",
   "nbconvert_exporter": "python",
   "pygments_lexer": "ipython3",
   "version": "3.11.1"
  }
 },
 "nbformat": 4,
 "nbformat_minor": 2
}
