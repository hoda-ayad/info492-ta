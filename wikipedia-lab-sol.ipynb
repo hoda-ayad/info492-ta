{
 "cells": [
  {
   "cell_type": "markdown",
   "metadata": {},
   "source": [
    "# Wikipedia Data Collection - SOLUTION\n",
    "\n",
    "## Introduction\n",
    "\n",
    "In this lab, we will familiarize ourselves with two python wrappers for the Wikipedia API [wikipedia](https://wikipedia.readthedocs.io/en/latest/) and [wikipedia-api](https://wikipedia-api.readthedocs.io/en/latest/README.html). By completing this lab, you should be able to extract information from wikipedia pages and collect page information from larger categories.\n",
    "\n",
    "Note: These are python wrappers for the API, which means that the interactions are much simpler and therefore are limited. \n",
    "Doing more advanced API interactions like [creating a bot](https://en.wikipedia.org/wiki/Help:Creating_a_bot#Python) requires use of either the original [Wikimedia API](https://www.mediawiki.org/wiki/API:Main_page) or other specified wrappers. This lab deals primarily with basic extraction of information to get you comfortable with working with APIs\n",
    "\n",
    "### Pre-requisites\n",
    "- Install the `wikipedia` and `wikipedia-api` Python wrappers in your terminal (code below)"
   ]
  },
  {
   "cell_type": "code",
   "execution_count": null,
   "metadata": {},
   "outputs": [],
   "source": [
    "#!pip install wikipedia\n",
    "#!pip install wikipedia-api"
   ]
  },
  {
   "cell_type": "code",
   "execution_count": 73,
   "metadata": {},
   "outputs": [],
   "source": [
    "import wikipedia as wikisearch\n",
    "import wikipediaapi\n",
    "import pandas as pd"
   ]
  },
  {
   "cell_type": "markdown",
   "metadata": {},
   "source": [
    "`wikipediaapi` requires you to create an instance with a specified user agent and language. \n",
    "Fill in a project name and your email (no need to have an account) in the variables. \n",
    "Feel free to change the language as needed - it's currently set to English"
   ]
  },
  {
   "cell_type": "code",
   "execution_count": 3,
   "metadata": {},
   "outputs": [],
   "source": [
    "proj_name = 'INFO492Lab'\n",
    "email = 'hayad03@uw.edu'\n",
    "wiki = wikipediaapi.Wikipedia(f'{proj_name} ({email})', 'en')"
   ]
  },
  {
   "cell_type": "markdown",
   "metadata": {},
   "source": [
    "## Searching for a Page\n",
    "\n",
    "The most basic function of Wikipedia interaction is collecting information from a single page. Let's say that you don't know the exact wording of the page title. Using the `wikipedia` wrapper, we can get some suggestions based on our query - similar to the function of a search bar. "
   ]
  },
  {
   "cell_type": "markdown",
   "metadata": {},
   "source": [
    "Remember that we've named the `wikipedia` wrapper `wikisearch`. This just helps differentiate the multiple wrappers we're using."
   ]
  },
  {
   "cell_type": "code",
   "execution_count": 7,
   "metadata": {},
   "outputs": [
    {
     "data": {
      "text/plain": [
       "['Twitter',\n",
       " 'Twitter, Inc.',\n",
       " 'Twitter Files',\n",
       " 'List of most-followed Twitter accounts',\n",
       " 'Twitter verification',\n",
       " 'Stan Twitter',\n",
       " 'Twitter under Elon Musk',\n",
       " 'Censorship of Twitter',\n",
       " 'Black Twitter',\n",
       " 'Timeline of Twitter']"
      ]
     },
     "execution_count": 7,
     "metadata": {},
     "output_type": "execute_result"
    }
   ],
   "source": [
    "wikisearch.search(\"Twitter\") # Try it out with your own words!"
   ]
  },
  {
   "cell_type": "markdown",
   "metadata": {},
   "source": [
    "Great! Now we have a list of page titles that we might be able to get information on. That extra step helps avoid errors in querying for a wikipedia page that might have multiple meanings."
   ]
  },
  {
   "cell_type": "markdown",
   "metadata": {},
   "source": [
    ">>To get information on an actual page, I find it best to use `wikipediaapi`. This is for a few reasons, namely because the `wikipedia` wrapper (although much more popular) hasn't been updated since 2014 and because it doesn't give you as much metadata on the page itself. You can use either wrapper for this though, it's just a matter of preference."
   ]
  },
  {
   "cell_type": "code",
   "execution_count": null,
   "metadata": {},
   "outputs": [],
   "source": [
    "page = wiki.page(\"Twitter\")\n",
    "dir(page) # This shows all the attributes in an object so you can find out what's available to get info on"
   ]
  },
  {
   "cell_type": "markdown",
   "metadata": {},
   "source": [
    "This returns an object with a few different attributes like summary, text, title, links, sections, and categories. "
   ]
  },
  {
   "cell_type": "markdown",
   "metadata": {},
   "source": [
    "### Get Page Info -- Try it Yourself\n",
    "\n",
    "It's easiest when working with a lot of different queries to turn repeated processes like this into functions. Try to create a function that accepts a page name and returns a dict with the:\n",
    "* Page Title\n",
    "* Page Summary\n",
    "* Categories a page is in\n",
    "* Page Sections\n",
    "* and Page Text (first 500 words after summary)\n",
    "\n",
    "**HINT:** You'll notice that getting page sections only returns high level sections. Take a look at [the documentation](https://wikipedia-api.readthedocs.io/en/latest/README.html) to see if there's a better way to get and display a page's sections. You might need to adapt what's been provided to fit your needs. \n",
    "\n",
    "**HINT 2:** The page text includes the summary. See if you can get the text without any overlap."
   ]
  },
  {
   "cell_type": "code",
   "execution_count": 80,
   "metadata": {},
   "outputs": [],
   "source": [
    "def get_page_info(name):\n",
    "    \n",
    "    page = wiki.page(name)\n",
    "    return {\n",
    "        \"title\": page.title,\n",
    "        \"summary\": page.summary,\n",
    "        \"sections\": format_sections(page.sections),\n",
    "        \"categories\": page.categories,\n",
    "        \"text\": page.text[len(page.summary):len(page.summary) + 500]\n",
    "    }\n",
    "\n",
    "def format_sections(sections, level=0, section_list=None):\n",
    "    if section_list == None:\n",
    "         section_list = []\n",
    "\n",
    "    for s in sections:\n",
    "            section_list.append(s.title)\n",
    "            format_sections(s.sections, level + 1, section_list)\n",
    "    return section_list"
   ]
  },
  {
   "cell_type": "code",
   "execution_count": null,
   "metadata": {},
   "outputs": [],
   "source": [
    "get_page_info('Twitter')"
   ]
  },
  {
   "cell_type": "markdown",
   "metadata": {},
   "source": [
    "### Getting Pages by Category\n",
    "\n",
    "When we're getting info on a lot of pages at once, we might want to see if Wikipedia has already created a grouping of pages within our area of interest. For example, we can see that Twitter is part of a category called 'American social networking mobile apps'. I can decide to grab a list of all the Wikipedia pages under that same category."
   ]
  },
  {
   "cell_type": "code",
   "execution_count": 34,
   "metadata": {},
   "outputs": [
    {
     "data": {
      "text/plain": [
       "{'Physics': Physics (id: ??, ns: 0),\n",
       " 'Portal:Physics': Portal:Physics (id: ??, ns: 100),\n",
       " 'Action principles': Action principles (id: ??, ns: 0),\n",
       " 'Charge based boundary element fast multipole method': Charge based boundary element fast multipole method (id: ??, ns: 0),\n",
       " 'Computational chemistry': Computational chemistry (id: ??, ns: 0),\n",
       " 'Dynamic toroidal dipole': Dynamic toroidal dipole (id: ??, ns: 0),\n",
       " 'Talk:Dynamic toroidal dipole': Talk:Dynamic toroidal dipole (id: ??, ns: 1),\n",
       " 'Edge states': Edge states (id: ??, ns: 0),\n",
       " 'Force control': Force control (id: ??, ns: 0),\n",
       " 'Isoelectric (electric potential)': Isoelectric (electric potential) (id: ??, ns: 0),\n",
       " 'Laser cooling': Laser cooling (id: ??, ns: 0),\n",
       " 'Neutral atom quantum computer': Neutral atom quantum computer (id: ??, ns: 0),\n",
       " 'Olsen cycle': Olsen cycle (id: ??, ns: 0),\n",
       " 'Overlap fermion': Overlap fermion (id: ??, ns: 0),\n",
       " 'Talk:Paul Harry Roberts': Talk:Paul Harry Roberts (id: ??, ns: 1),\n",
       " 'Quasi-isodynamic stellarator': Quasi-isodynamic stellarator (id: ??, ns: 0),\n",
       " 'Shockwave cosmology': Shockwave cosmology (id: ??, ns: 0),\n",
       " 'Toroidal solenoid': Toroidal solenoid (id: ??, ns: 0),\n",
       " 'Trajectoid': Trajectoid (id: ??, ns: 0),\n",
       " 'Category:Physics by country': Category:Physics by country (id: ??, ns: 14),\n",
       " 'Category:Subfields of physics': Category:Subfields of physics (id: ??, ns: 14),\n",
       " 'Category:Physicists': Category:Physicists (id: ??, ns: 14),\n",
       " 'Category:Concepts in physics': Category:Concepts in physics (id: ??, ns: 14),\n",
       " 'Category:Eponyms in physics': Category:Eponyms in physics (id: ??, ns: 14),\n",
       " 'Category:Physics-related lists': Category:Physics-related lists (id: ??, ns: 14),\n",
       " 'Category:Physical modeling': Category:Physical modeling (id: ??, ns: 14),\n",
       " 'Category:Physics in society': Category:Physics in society (id: ??, ns: 14),\n",
       " 'Category:Works about physics': Category:Works about physics (id: ??, ns: 14),\n",
       " 'Category:Physics stubs': Category:Physics stubs (id: ??, ns: 14)}"
      ]
     },
     "execution_count": 34,
     "metadata": {},
     "output_type": "execute_result"
    }
   ],
   "source": [
    "wiki.page(\"Category:Physics\").categorymembers"
   ]
  },
  {
   "cell_type": "markdown",
   "metadata": {},
   "source": [
    "### Try it yourself\n",
    "\n",
    "This result is difficult to read. Using the documentation or adapting your earlier solution, create a function that returns the categories in a more readable way. "
   ]
  },
  {
   "cell_type": "code",
   "execution_count": 60,
   "metadata": {},
   "outputs": [],
   "source": [
    "def get_categorymembers(categorymembers, level=0, max_level=1, subcategories=True, categoryList = None):\n",
    "        if categoryList == None:\n",
    "            categoryList = []\n",
    "        for c in categorymembers.values():\n",
    "            categoryList.append(\"%s\" % (c.title))\n",
    "            if subcategories:\n",
    "                if c.ns == wikipediaapi.Namespace.CATEGORY and level < max_level:\n",
    "                    get_categorymembers(c.categorymembers, level + 1, max_level, categoryList=categoryList)\n",
    "        return categoryList"
   ]
  },
  {
   "cell_type": "code",
   "execution_count": 61,
   "metadata": {},
   "outputs": [
    {
     "name": "stdout",
     "output_type": "stream",
     "text": [
      "Category members: Category:Physics\n"
     ]
    },
    {
     "data": {
      "text/plain": [
       "['Physics',\n",
       " 'Portal:Physics',\n",
       " 'Action principles',\n",
       " 'Charge based boundary element fast multipole method',\n",
       " 'Computational chemistry',\n",
       " 'Dynamic toroidal dipole',\n",
       " 'Talk:Dynamic toroidal dipole',\n",
       " 'Edge states',\n",
       " 'Force control',\n",
       " 'Isoelectric (electric potential)',\n",
       " 'Laser cooling',\n",
       " 'Neutral atom quantum computer',\n",
       " 'Olsen cycle',\n",
       " 'Overlap fermion',\n",
       " 'Talk:Paul Harry Roberts',\n",
       " 'Quasi-isodynamic stellarator',\n",
       " 'Shockwave cosmology',\n",
       " 'Toroidal solenoid',\n",
       " 'Trajectoid',\n",
       " 'Category:Physics by country',\n",
       " 'Category:Subfields of physics',\n",
       " 'Category:Physicists',\n",
       " 'Category:Concepts in physics',\n",
       " 'Category:Eponyms in physics',\n",
       " 'Category:Physics-related lists',\n",
       " 'Category:Physical modeling',\n",
       " 'Category:Physics in society',\n",
       " 'Category:Works about physics',\n",
       " 'Category:Physics stubs']"
      ]
     },
     "execution_count": 61,
     "metadata": {},
     "output_type": "execute_result"
    }
   ],
   "source": [
    "cat = wiki.page(\"Category:Physics\")\n",
    "print(\"Category members: Category:Physics\")\n",
    "get_categorymembers(cat.categorymembers, subcategories=False)"
   ]
  },
  {
   "cell_type": "markdown",
   "metadata": {},
   "source": [
    "## **BONUS:** Getting Page Info by Category\n",
    "Combine your earlier work to create a function that automatically makes a database of page information from a category search. Like before, the function should accept the name of a category and return a database with page information including the title, summary, sections, categories, and first 500 words of text. \n",
    "\n",
    "**NOTE:** Some of the items returned by .categorymembers are themselves categories or lists. Try to exclude those from the search."
   ]
  },
  {
   "cell_type": "code",
   "execution_count": 78,
   "metadata": {},
   "outputs": [],
   "source": [
    "def get_all_in_category(category):\n",
    "    page_list = get_categorymembers(wiki.page(category).categorymembers)\n",
    "    page_list = [page for page in page_list if ('Category:' not in page) & ('List of' not in page)]\n",
    "    \n",
    "    page_data = []\n",
    "    for page in page_list[:5]:\n",
    "        page_data.append(get_page_info(page))\n",
    "\n",
    "    return pd.DataFrame(page_data)\n"
   ]
  },
  {
   "cell_type": "code",
   "execution_count": 82,
   "metadata": {},
   "outputs": [
    {
     "data": {
      "text/html": [
       "<div>\n",
       "<style scoped>\n",
       "    .dataframe tbody tr th:only-of-type {\n",
       "        vertical-align: middle;\n",
       "    }\n",
       "\n",
       "    .dataframe tbody tr th {\n",
       "        vertical-align: top;\n",
       "    }\n",
       "\n",
       "    .dataframe thead th {\n",
       "        text-align: right;\n",
       "    }\n",
       "</style>\n",
       "<table border=\"1\" class=\"dataframe\">\n",
       "  <thead>\n",
       "    <tr style=\"text-align: right;\">\n",
       "      <th></th>\n",
       "      <th>title</th>\n",
       "      <th>summary</th>\n",
       "      <th>sections</th>\n",
       "      <th>categories</th>\n",
       "      <th>text</th>\n",
       "    </tr>\n",
       "  </thead>\n",
       "  <tbody>\n",
       "    <tr>\n",
       "      <th>0</th>\n",
       "      <td>Physics</td>\n",
       "      <td>Physics is the natural science of matter, invo...</td>\n",
       "      <td>[History, Ancient astronomy, Natural philosoph...</td>\n",
       "      <td>{'Category:All articles with unsourced stateme...</td>\n",
       "      <td>\\n\\nHistory\\nThe word physics comes from the L...</td>\n",
       "    </tr>\n",
       "    <tr>\n",
       "      <th>1</th>\n",
       "      <td>Portal:Physics</td>\n",
       "      <td></td>\n",
       "      <td>[]</td>\n",
       "      <td>{'Category:All manually maintained portal page...</td>\n",
       "      <td></td>\n",
       "    </tr>\n",
       "    <tr>\n",
       "      <th>2</th>\n",
       "      <td>Action principles</td>\n",
       "      <td>Action principles lie at the heart of fundamen...</td>\n",
       "      <td>[Common concepts, Energy, not force, Paths, no...</td>\n",
       "      <td>{'Category:Articles with short description': C...</td>\n",
       "      <td>\\n\\nCommon concepts\\nAction principles are 'in...</td>\n",
       "    </tr>\n",
       "    <tr>\n",
       "      <th>3</th>\n",
       "      <td>Charge based boundary element fast multipole m...</td>\n",
       "      <td>The charge-based formulation of the boundary e...</td>\n",
       "      <td>[Historical development, Physical background -...</td>\n",
       "      <td>{'Category:All articles that are too technical...</td>\n",
       "      <td>\\n\\nHistorical development\\nAlong with more co...</td>\n",
       "    </tr>\n",
       "    <tr>\n",
       "      <th>4</th>\n",
       "      <td>Computational chemistry</td>\n",
       "      <td>Computational chemistry is a branch of chemist...</td>\n",
       "      <td>[Overview, History, Applications, Catalysis, D...</td>\n",
       "      <td>{'Category:Articles with J9U identifiers': Cat...</td>\n",
       "      <td>\\n\\nOverview\\nComputational chemistry differs ...</td>\n",
       "    </tr>\n",
       "  </tbody>\n",
       "</table>\n",
       "</div>"
      ],
      "text/plain": [
       "                                               title  \\\n",
       "0                                            Physics   \n",
       "1                                     Portal:Physics   \n",
       "2                                  Action principles   \n",
       "3  Charge based boundary element fast multipole m...   \n",
       "4                            Computational chemistry   \n",
       "\n",
       "                                             summary  \\\n",
       "0  Physics is the natural science of matter, invo...   \n",
       "1                                                      \n",
       "2  Action principles lie at the heart of fundamen...   \n",
       "3  The charge-based formulation of the boundary e...   \n",
       "4  Computational chemistry is a branch of chemist...   \n",
       "\n",
       "                                            sections  \\\n",
       "0  [History, Ancient astronomy, Natural philosoph...   \n",
       "1                                                 []   \n",
       "2  [Common concepts, Energy, not force, Paths, no...   \n",
       "3  [Historical development, Physical background -...   \n",
       "4  [Overview, History, Applications, Catalysis, D...   \n",
       "\n",
       "                                          categories  \\\n",
       "0  {'Category:All articles with unsourced stateme...   \n",
       "1  {'Category:All manually maintained portal page...   \n",
       "2  {'Category:Articles with short description': C...   \n",
       "3  {'Category:All articles that are too technical...   \n",
       "4  {'Category:Articles with J9U identifiers': Cat...   \n",
       "\n",
       "                                                text  \n",
       "0  \\n\\nHistory\\nThe word physics comes from the L...  \n",
       "1                                                     \n",
       "2  \\n\\nCommon concepts\\nAction principles are 'in...  \n",
       "3  \\n\\nHistorical development\\nAlong with more co...  \n",
       "4  \\n\\nOverview\\nComputational chemistry differs ...  "
      ]
     },
     "execution_count": 82,
     "metadata": {},
     "output_type": "execute_result"
    }
   ],
   "source": [
    "get_all_in_category(\"Category:Physics\") # Depending on the category you search, this might take a while to run"
   ]
  }
 ],
 "metadata": {
  "kernelspec": {
   "display_name": "Python 3",
   "language": "python",
   "name": "python3"
  },
  "language_info": {
   "codemirror_mode": {
    "name": "ipython",
    "version": 3
   },
   "file_extension": ".py",
   "mimetype": "text/x-python",
   "name": "python",
   "nbconvert_exporter": "python",
   "pygments_lexer": "ipython3",
   "version": "3.11.1"
  }
 },
 "nbformat": 4,
 "nbformat_minor": 2
}
